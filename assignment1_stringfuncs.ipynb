{
 "cells": [
  {
   "cell_type": "markdown",
   "metadata": {},
   "source": [
    "# ASSIGNMENT\n"
   ]
  },
  {
   "cell_type": "markdown",
   "metadata": {},
   "source": [
    "# String data type all methods"
   ]
  },
  {
   "cell_type": "code",
   "execution_count": 1,
   "metadata": {},
   "outputs": [
    {
     "name": "stdout",
     "output_type": "stream",
     "text": [
      "My Name Kainat\n"
     ]
    }
   ],
   "source": [
    "#capitalize:Return a copy of the string with its first character capitalized and the rest lowercased.\n",
    "str1=\"my\"\n",
    "str2=\"name\"\n",
    "str3=\"kainat\"\n",
    "print(str1.capitalize()+\" \"+str2.capitalize()+\" \"+str3.capitalize())\n"
   ]
  },
  {
   "cell_type": "code",
   "execution_count": 2,
   "metadata": {},
   "outputs": [
    {
     "name": "stdout",
     "output_type": "stream",
     "text": [
      "i am kainat\n"
     ]
    }
   ],
   "source": [
    "#casefold:convert to lower case\n",
    "sen=\"I AM kaInaT\"\n",
    "sen1=sen.casefold()\n",
    "print(sen1)"
   ]
  },
  {
   "cell_type": "code",
   "execution_count": 4,
   "metadata": {},
   "outputs": [
    {
     "data": {
      "text/plain": [
       "2"
      ]
     },
     "execution_count": 4,
     "metadata": {},
     "output_type": "execute_result"
    }
   ],
   "source": [
    "#count: tells us about how many times a value occures or repeats\n",
    "names=[\"sara\",\"habib\",\"zara\",\"sara\"]\n",
    "names.count(names[3])"
   ]
  },
  {
   "cell_type": "code",
   "execution_count": 5,
   "metadata": {},
   "outputs": [
    {
     "name": "stdout",
     "output_type": "stream",
     "text": [
      "5\n"
     ]
    }
   ],
   "source": [
    "#count:returns occurance of substring in string\n",
    "msg=\"The supreme irony of life is that hardly anyone gets out of it alive\"\n",
    "print(msg.count(\"t\"))"
   ]
  },
  {
   "cell_type": "code",
   "execution_count": 6,
   "metadata": {},
   "outputs": [
    {
     "name": "stdout",
     "output_type": "stream",
     "text": [
      "5\n"
     ]
    }
   ],
   "source": [
    "#count:optional parameters of count\n",
    "msg1=\"the way to get started is to quit talking and begin doing.\"\n",
    "print(msg1.count(\"t\",5,30))"
   ]
  },
  {
   "cell_type": "code",
   "execution_count": 7,
   "metadata": {},
   "outputs": [
    {
     "name": "stdout",
     "output_type": "stream",
     "text": [
      "----------Islamabad-----------\n",
      "          Islamabad           \n"
     ]
    }
   ],
   "source": [
    "#center:pads string with specified characters and paramters\n",
    "msg2=\"Islamabad\"\n",
    "\n",
    "center1= msg2.center(30, \"-\")\n",
    "center2 = msg2.center(30)\n",
    "\n",
    "print(center1)\n",
    "print(center2)"
   ]
  },
  {
   "cell_type": "code",
   "execution_count": 8,
   "metadata": {},
   "outputs": [
    {
     "name": "stdout",
     "output_type": "stream",
     "text": [
      "i am å student of electrical engineering\n",
      "b'i am \\xc3\\xa5 student of electrical engineering'\n"
     ]
    }
   ],
   "source": [
    "#encode: return the encoded version of string as byte object\n",
    "msg3=\"i am å student of electrical engineering\"\n",
    "print(msg3)\n",
    "print(msg3.encode())"
   ]
  },
  {
   "cell_type": "code",
   "execution_count": 9,
   "metadata": {},
   "outputs": [
    {
     "name": "stdout",
     "output_type": "stream",
     "text": [
      "True\n",
      "False\n",
      "True\n"
     ]
    }
   ],
   "source": [
    "# endswith: Checks if String Ends with the Specified Suffix\n",
    "msg4 = \"Life is too short to be little.\"\n",
    "print(msg4.endswith(\"to be little.\"))\n",
    "print(msg4.endswith(\"to be little\"))\n",
    "print(msg4.endswith(\".\"))\n"
   ]
  },
  {
   "cell_type": "code",
   "execution_count": 10,
   "metadata": {},
   "outputs": [
    {
     "name": "stdout",
     "output_type": "stream",
     "text": [
      "Courage  is found in unlikely  places\n",
      "Courage    is found in unlikely          places\n",
      "Courage              is found in unlikely                    places\n",
      "Courage                                  is found in unlikely                    places\n"
     ]
    }
   ],
   "source": [
    "# expandtabs: Replaces Tab character With Spaces\n",
    "msg5 = \"Courage\\t is found in unlikely\\t places\"\n",
    "print(msg5.expandtabs(2))\n",
    "print(msg5.expandtabs(10))\n",
    "print(msg5.expandtabs(20))\n",
    "print(msg5.expandtabs(40))"
   ]
  },
  {
   "cell_type": "code",
   "execution_count": 11,
   "metadata": {},
   "outputs": [
    {
     "name": "stdout",
     "output_type": "stream",
     "text": [
      "7\n"
     ]
    }
   ],
   "source": [
    "\n",
    "# find: Returns the index of first occurrence of substring\n",
    "msg6 = \"Hello, welcome to my world.\"\n",
    "\n",
    "find1 = msg6.find(\"welcome\")\n",
    "\n",
    "print(find1)"
   ]
  },
  {
   "cell_type": "code",
   "execution_count": 12,
   "metadata": {},
   "outputs": [
    {
     "name": "stdout",
     "output_type": "stream",
     "text": [
      "MY iza, name  AUNT\n",
      "MY AUNT, name iza\n",
      "MY iza, name AUNT\n",
      "2,9\n",
      "9,2\n"
     ]
    }
   ],
   "source": [
    "# format: formats string into better output\n",
    "print(\"MY {}, name {}\".format(\"iza\",\" AUNT\"))\n",
    "print(\"MY {1}, name {0}\".format(\"iza\",\"AUNT\"))\n",
    "print(\"MY {0}, name {1}\".format(\"iza\",\"AUNT\"))\n",
    "# working with dict\n",
    "point = {'A':9,'B':2}\n",
    "print('{B},{A}'.format(**point))\n",
    "print('{A},{B}'.format(**point))"
   ]
  },
  {
   "cell_type": "code",
   "execution_count": 14,
   "metadata": {},
   "outputs": [
    {
     "name": "stdout",
     "output_type": "stream",
     "text": [
      "kainat hanif\n",
      "hanif kainat\n",
      "hanif kainat hanif\n"
     ]
    }
   ],
   "source": [
    "#format_maps:Similar to str.format(**mapping), except that mapping is used directly and not copied to a dict. This is useful if for example mapping is a dict subclass.\n",
    "\n",
    "msg7={'no':\"kainat\", 'f_no':\"hanif\"}\n",
    "\n",
    "\n",
    "print('{no} {f_no}'.format_map(msg7))\n",
    "print('{f_no} {no}'.format_map(msg7))\n",
    "print('{f_no} {no} {f_no}'.format_map(msg7))"
   ]
  },
  {
   "cell_type": "code",
   "execution_count": 15,
   "metadata": {},
   "outputs": [
    {
     "data": {
      "text/plain": [
       "7"
      ]
     },
     "execution_count": 15,
     "metadata": {},
     "output_type": "execute_result"
    }
   ],
   "source": [
    "# index: Returns Index of Substring,and its Like find(), but raise ValueError when the substring is not found.\n",
    "msg8 = \"A very random oservation\"\n",
    "msg8.index(\"random\")"
   ]
  },
  {
   "cell_type": "code",
   "execution_count": 16,
   "metadata": {},
   "outputs": [
    {
     "name": "stdout",
     "output_type": "stream",
     "text": [
      "True\n",
      "True\n",
      "True\n",
      "False\n",
      "False\n"
     ]
    }
   ],
   "source": [
    "# isalnum: Checks Alphanumeric Character,Return True if all characters in the string are alphanumeric and there is at least one character, False otherwise.\n",
    "msg9= \"kainat789\"\n",
    "print(msg9.isalnum())\n",
    "msg10 = \"7864\"\n",
    "print(msg10.isalnum())\n",
    "msg10 = \"kainat\"\n",
    "print(msg10.isalnum())\n",
    "msg10 = \"kainat 7864\"\n",
    "print(msg10.isalnum())\n",
    "msg10 = \"kainat@7864\"\n",
    "print(msg10.isalnum())"
   ]
  },
  {
   "cell_type": "code",
   "execution_count": 17,
   "metadata": {},
   "outputs": [
    {
     "name": "stdout",
     "output_type": "stream",
     "text": [
      "False\n",
      "False\n",
      "True\n"
     ]
    }
   ],
   "source": [
    "# isalpha:Return True if all characters in the string are alphabetic and there is at least one character, False otherwise\n",
    "msg11 = \"kainat^\"\n",
    "print(msg11.isalpha())\n",
    "\n",
    "msg11 = \"kainat124\"\n",
    "print(msg11.isalpha())\n",
    "msg11 = \"kainat\"\n",
    "print(msg11.isalpha())"
   ]
  },
  {
   "cell_type": "code",
   "execution_count": 18,
   "metadata": {},
   "outputs": [
    {
     "name": "stdout",
     "output_type": "stream",
     "text": [
      "False\n",
      "False\n",
      "True\n"
     ]
    }
   ],
   "source": [
    "# isdigit:Return True if all characters in the string are digits and there is at least one character, False otherwise.\n",
    "msg12 = \"kainat1\"\n",
    "print(msg12.isdigit())\n",
    "\n",
    "msg12 = \"kainat\"\n",
    "print(msg12.isdigit())\n",
    "msg12 = \"12345\"\n",
    "print(msg12.isdigit())"
   ]
  },
  {
   "cell_type": "code",
   "execution_count": 19,
   "metadata": {},
   "outputs": [
    {
     "data": {
      "text/plain": [
       "True"
      ]
     },
     "execution_count": 19,
     "metadata": {},
     "output_type": "execute_result"
    }
   ],
   "source": [
    "# isdecimal:Return True if all characters in the string are decimal characters and there is at least one character, False otherwise.\n",
    "\n",
    "msg13 = \"1234\"\n",
    "msg13.isdecimal()"
   ]
  },
  {
   "cell_type": "code",
   "execution_count": 20,
   "metadata": {},
   "outputs": [
    {
     "name": "stdout",
     "output_type": "stream",
     "text": [
      "False\n",
      "True\n"
     ]
    }
   ],
   "source": [
    "# isdigit:Return True if all characters in the string are digits and there is at least one character, False otherwise\n",
    "msg14 = \"12345.67890\"\n",
    "print(msg14.isdigit())\n",
    "msg14 = \"1234\"\n",
    "print(msg14.isdecimal())"
   ]
  },
  {
   "cell_type": "code",
   "execution_count": 21,
   "metadata": {},
   "outputs": [
    {
     "name": "stdout",
     "output_type": "stream",
     "text": [
      "False\n",
      "True\n",
      "True\n"
     ]
    }
   ],
   "source": [
    "#isidentifier:Return True if the string is a valid identifier according to the language definition\n",
    "msg15 = 'c++'\n",
    "print(msg15.isidentifier())\n",
    "\n",
    "msg15 = 'python'\n",
    "print(msg15.isidentifier())\n",
    "\n",
    "msg15= \"def\"\n",
    "print(msg15.isidentifier())"
   ]
  },
  {
   "cell_type": "code",
   "execution_count": 22,
   "metadata": {},
   "outputs": [
    {
     "name": "stdout",
     "output_type": "stream",
     "text": [
      "False\n",
      "True\n"
     ]
    }
   ],
   "source": [
    "#isslower:Return True if all cased characters in the string are lowercase and there is at least one cased character, False otherwise\n",
    "msg16 = \"good Soul\"\n",
    "print(msg16.islower())\n",
    "\n",
    "msg16= \"good soul\"\n",
    "print(msg16.islower())"
   ]
  },
  {
   "cell_type": "code",
   "execution_count": 25,
   "metadata": {},
   "outputs": [
    {
     "name": "stdout",
     "output_type": "stream",
     "text": [
      "True\n",
      "False\n"
     ]
    }
   ],
   "source": [
    "#isnumeric:Return True if all characters in the string are numeric characters, and there is at least one character, False otherwise.\n",
    "msg17 = \"12334\"\n",
    "print(msg17.isnumeric())\n",
    "msg17 = \"kainat 1234\"\n",
    "print(msg17.isnumeric())"
   ]
  },
  {
   "cell_type": "code",
   "execution_count": 26,
   "metadata": {},
   "outputs": [
    {
     "name": "stdout",
     "output_type": "stream",
     "text": [
      "False\n",
      "True\n"
     ]
    }
   ],
   "source": [
    "#isprintable:Return True if all characters in the string are printable or the string is empty, False otherwise. Nonprintable characters are those characters defined in the Unicode character database as “Other” or “Separator”, excepting the ASCII space (0x20) which is considered printable.\n",
    "\n",
    "msg18 = \"Hello!\\nAre you ?\"\n",
    "msg19 = \"hi how are u\"\n",
    "\n",
    "a = msg18.isprintable()\n",
    "b =msg19.isprintable()\n",
    "\n",
    "print(a)\n",
    "print(b)"
   ]
  },
  {
   "cell_type": "code",
   "execution_count": 27,
   "metadata": {},
   "outputs": [
    {
     "name": "stdout",
     "output_type": "stream",
     "text": [
      "True\n",
      "False\n"
     ]
    }
   ],
   "source": [
    "#isspace:Return True if there are only whitespace characters in the string and there is at least one character, False otherwise.\n",
    "# isspace\n",
    "msg20 = \"  \"\n",
    "print(msg20.isspace())\n",
    "\n",
    "\n",
    "msg20 = \"kainat \"\n",
    "print(msg20.isspace())"
   ]
  },
  {
   "cell_type": "code",
   "execution_count": 28,
   "metadata": {},
   "outputs": [
    {
     "name": "stdout",
     "output_type": "stream",
     "text": [
      "False\n",
      "True\n",
      "False\n",
      "True\n"
     ]
    }
   ],
   "source": [
    "#istitle:Return True if the string is a titlecased string and there is at least one character, for example uppercase characters may only follow uncased characters and lowercase characters only cased ones. Return False otherwise.\n",
    "msg21 = \"i am kainat\"\n",
    "print(msg21.istitle())\n",
    "\n",
    "msg21 = \"I Am Kainat\"\n",
    "print(msg21.istitle())\n",
    "\n",
    "msg21 = \"i am Kainat\"\n",
    "print(msg21.istitle())\n",
    "msg21 = \"4 I Am @Kainat\"\n",
    "print(msg21.istitle())"
   ]
  },
  {
   "cell_type": "code",
   "execution_count": 29,
   "metadata": {},
   "outputs": [
    {
     "name": "stdout",
     "output_type": "stream",
     "text": [
      "True\n",
      "False\n"
     ]
    }
   ],
   "source": [
    "#isupper:Return True if all cased characters 4 in the string are uppercase and there is at least one cased character, False otherwise.\n",
    "msg22 = \"PIAIC\"\n",
    "print(msg22.isupper())\n",
    "\n",
    "msg22 = \"piaic\"\n",
    "print(msg22.isupper())"
   ]
  },
  {
   "cell_type": "code",
   "execution_count": 31,
   "metadata": {},
   "outputs": [
    {
     "name": "stdout",
     "output_type": "stream",
     "text": [
      "k/a/i/n/a/t\n"
     ]
    }
   ],
   "source": [
    "#join:Return a string which is the concatenation of the strings in iterable. A TypeError will be raised if there are any non-string values in iterable, including bytes objects. The separator between elements is the string providing this method.\n",
    "msg23 = 'kainat'\n",
    "add = '/'\n",
    "print(add.join(msg23))"
   ]
  },
  {
   "cell_type": "code",
   "execution_count": 32,
   "metadata": {},
   "outputs": [
    {
     "name": "stdout",
     "output_type": "stream",
     "text": [
      "kainat      hanif\n",
      "kainat!!!!!!hanif\n"
     ]
    }
   ],
   "source": [
    "#Ijust:Return the string left justified in a string of length width. Padding is done using the specified fillchar (default is an ASCII space). The original string is returned if width is less than or equal to len(s).\n",
    "msg24 = \"kainat\"\n",
    "print(msg24.ljust(12) + \"hanif\")\n",
    "print(msg24.ljust(12,'!') + \"hanif\")"
   ]
  },
  {
   "cell_type": "code",
   "execution_count": 33,
   "metadata": {},
   "outputs": [
    {
     "name": "stdout",
     "output_type": "stream",
     "text": [
      "kainat hanif\n"
     ]
    }
   ],
   "source": [
    "#lower:Return a copy of the string with all the cased characters converted to lowercase\n",
    "msg25= \"KAINAT HANIF\"\n",
    "print(msg25.lower())"
   ]
  },
  {
   "cell_type": "code",
   "execution_count": 34,
   "metadata": {},
   "outputs": [
    {
     "name": "stdout",
     "output_type": "stream",
     "text": [
      "KAINAT    HANIF\n",
      "   KAINAT    HANIF  \n",
      "KAINAT    HANIF  \n",
      "   KAINAT    HANIF\n"
     ]
    }
   ],
   "source": [
    "#istrip:Return a copy of the string with leading characters removed. The chars argument is a string specifying the set of characters to be removed. If omitted or None, the chars argument defaults to removing whitespace. The chars argument is not a prefix; rather, all combinations of its values are stripped\n",
    "# strip , rstrip, lstrip\n",
    "s = \"   KAINAT    HANIF  \"\n",
    "print(s.strip())\n",
    "print(s.strip('hani'))\n",
    "print(s.lstrip())\n",
    "print(s.rstrip())"
   ]
  },
  {
   "cell_type": "code",
   "execution_count": 35,
   "metadata": {},
   "outputs": [
    {
     "data": {
      "text/plain": [
       "{115: 116, 116: 114, 114: 97, 105: 110, 110: 115, 103: 102}"
      ]
     },
     "execution_count": 35,
     "metadata": {},
     "output_type": "execute_result"
    }
   ],
   "source": [
    "#maketrans:This static method returns a translation table usable for str.translate().\n",
    "str.maketrans('string', 'transf')"
   ]
  },
  {
   "cell_type": "code",
   "execution_count": 36,
   "metadata": {},
   "outputs": [
    {
     "name": "stdout",
     "output_type": "stream",
     "text": [
      "('my fav city ', 'is ', 'islamabad')\n"
     ]
    }
   ],
   "source": [
    "#partition:Split the string at the first occurrence of sep, and return a 3-tuple containing the part before the separator, the separator itself, and the part after the separator. If the separator is not found, return a 3-tuple containing the string itself, followed by two empty strings.\n",
    "msg26 = \"my fav city is islamabad\"\n",
    "print(msg26.rpartition('is '))"
   ]
  },
  {
   "cell_type": "code",
   "execution_count": 37,
   "metadata": {},
   "outputs": [
    {
     "data": {
      "text/plain": [
       "'Replaced the number 98765 with 98765'"
      ]
     },
     "execution_count": 37,
     "metadata": {},
     "output_type": "execute_result"
    }
   ],
   "source": [
    "#replace:Return a copy of the string with all occurrences of substring old replaced by new. If the optional argument count is given, only the first count occurrences are replaced.\n",
    "msg27= \"Replaced the number 12334 with 98765\"\n",
    "msg27.replace(\"12334\", \"98765\")"
   ]
  },
  {
   "cell_type": "code",
   "execution_count": 38,
   "metadata": {},
   "outputs": [
    {
     "data": {
      "text/plain": [
       "36"
      ]
     },
     "execution_count": 38,
     "metadata": {},
     "output_type": "execute_result"
    }
   ],
   "source": [
    "#rfind:Return the highest index in the string where substring sub is found, such that sub is contained within s[start:end]. Optional arguments start and end are interpreted as in slice notation. Return -1 on failure.\n",
    "string = \"A random string has appeared. A new random string has appeared!\"\n",
    "string.rfind(\"random\")"
   ]
  },
  {
   "cell_type": "code",
   "execution_count": 39,
   "metadata": {},
   "outputs": [
    {
     "data": {
      "text/plain": [
       "36"
      ]
     },
     "execution_count": 39,
     "metadata": {},
     "output_type": "execute_result"
    }
   ],
   "source": [
    "#rindex:Like rfind() but raises ValueError when the substring sub is not found.\n",
    "string = \"A random string has appeared. A new random string has appeared!\"\n",
    "string.rindex(\"random\")"
   ]
  },
  {
   "cell_type": "code",
   "execution_count": 40,
   "metadata": {},
   "outputs": [
    {
     "data": {
      "text/plain": [
       "'           Padding to the left'"
      ]
     },
     "execution_count": 40,
     "metadata": {},
     "output_type": "execute_result"
    }
   ],
   "source": [
    "#rjust:Return the string right justified in a string of length width. Padding is done using the specified fillchar (default is an ASCII space). The original string is returned if width is less than or equal to len(s).\n",
    "string = \"Padding to the left\"\n",
    "string.rjust(30)"
   ]
  },
  {
   "cell_type": "code",
   "execution_count": 41,
   "metadata": {},
   "outputs": [
    {
     "name": "stdout",
     "output_type": "stream",
     "text": [
      "['such', 'a', 'nice', 'day']\n",
      "['such', 'a', 'nice', 'day']\n"
     ]
    }
   ],
   "source": [
    "# split : Splits String from Left and returns a list\n",
    "string = \"such a nice day\"\n",
    "print(string.split())\n",
    "\n",
    "print(string.rsplit())"
   ]
  },
  {
   "cell_type": "code",
   "execution_count": 42,
   "metadata": {},
   "outputs": [
    {
     "name": "stdout",
     "output_type": "stream",
     "text": [
      "['Chilli', 'Garlic', 'Tomato', 'Salt']\n",
      "['Chilli\\n', 'Garlic\\r\\n', 'Tomato\\r', 'Salt']\n",
      "['Chilli Garlic Tomato Salt']\n"
     ]
    }
   ],
   "source": [
    "# splitlines: Splits String at Line Boundaries and returns a list\n",
    "ingredients = 'Chilli\\nGarlic\\r\\nTomato\\rSalt'\n",
    "\n",
    "print(ingredients.splitlines())\n",
    "print(ingredients.splitlines(True))\n",
    "\n",
    "ingredients = 'Chilli Garlic Tomato Salt'\n",
    "print(ingredients.splitlines())"
   ]
  },
  {
   "cell_type": "code",
   "execution_count": 43,
   "metadata": {},
   "outputs": [
    {
     "data": {
      "text/plain": [
       "'Removed the whitespace ->'"
      ]
     },
     "execution_count": 43,
     "metadata": {},
     "output_type": "execute_result"
    }
   ],
   "source": [
    "#rstrip:Return a copy of the string with trailing characters removed. The chars argument is a string specifying the set of characters to be removed. If omitted or None, the chars argument defaults to removing whitespace. The chars argument is not a suffix; rather, all combinations of its values are stripped.\n",
    "msg30 = \"Removed the whitespace ->            \"\n",
    "msg30.rstrip()"
   ]
  },
  {
   "cell_type": "code",
   "execution_count": 44,
   "metadata": {},
   "outputs": [
    {
     "name": "stdout",
     "output_type": "stream",
     "text": [
      "KAINAT hanif\n"
     ]
    }
   ],
   "source": [
    "# swapcase: swap uppercase characters to lowercase; vice versa\n",
    "msg31 = \"kainat HANIF\"\n",
    "print(msg31.swapcase())"
   ]
  },
  {
   "cell_type": "code",
   "execution_count": 45,
   "metadata": {},
   "outputs": [
    {
     "name": "stdout",
     "output_type": "stream",
     "text": [
      "00000000the end\n",
      "0000000000000the end\n",
      "000the end\n"
     ]
    }
   ],
   "source": [
    "# zfill:Return a copy of the string left filled with ASCII '0' digits to make a string of length width.\n",
    "msg33 = \"the end\"\n",
    "print(msg33.zfill(15))\n",
    "print(msg33.zfill(20))\n",
    "print(msg33.zfill(10))\n"
   ]
  },
  {
   "cell_type": "code",
   "execution_count": 46,
   "metadata": {},
   "outputs": [
    {
     "data": {
      "text/plain": [
       "-1217.0"
      ]
     },
     "execution_count": 46,
     "metadata": {},
     "output_type": "execute_result"
    }
   ],
   "source": [
    "#PEMDAS\n",
    "15 + 32 - 55 + 1 * 26 / 45 ** 3 // 16 + 20 + 22 + 19 - 487 * 4 + 678 + 0 * 5 / 35 ** 2 // 15 // 10"
   ]
  },
  {
   "cell_type": "code",
   "execution_count": null,
   "metadata": {},
   "outputs": [],
   "source": []
  }
 ],
 "metadata": {
  "kernelspec": {
   "display_name": "Python 3",
   "language": "python",
   "name": "python3"
  },
  "language_info": {
   "codemirror_mode": {
    "name": "ipython",
    "version": 3
   },
   "file_extension": ".py",
   "mimetype": "text/x-python",
   "name": "python",
   "nbconvert_exporter": "python",
   "pygments_lexer": "ipython3",
   "version": "3.7.3"
  }
 },
 "nbformat": 4,
 "nbformat_minor": 2
}
